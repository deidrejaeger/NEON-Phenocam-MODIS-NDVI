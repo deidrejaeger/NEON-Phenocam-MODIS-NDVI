{
 "cells": [
  {
   "cell_type": "markdown",
   "metadata": {},
   "source": [
    "# Calculating NDVI from Phenocam imagery\n",
    "# Francisco M. Sánchez\n",
    "\n",
    "# Created: 6/23/2017\n",
    "# Last modified: 6/23/2017\n"
   ]
  },
  {
   "cell_type": "markdown",
   "metadata": {},
   "source": [
    "### Steps:\n",
    "#### 1. Download the RAW data from https://phenocam.sr.unh.edu/webcam/network/download/\n",
    "<img src=\"phenocamPage.png\">"
   ]
  },
  {
   "cell_type": "code",
   "execution_count": 9,
   "metadata": {
    "collapsed": true
   },
   "outputs": [],
   "source": [
    "import numpy as np\n",
    "import gdal\n",
    "import matplotlib.pyplot as plt\n",
    "%matplotlib inline\n",
    "import warnings\n",
    "warnings.filterwarnings('ignore')\n",
    "from skimage.filters import gaussian"
   ]
  },
  {
   "cell_type": "markdown",
   "metadata": {},
   "source": [
    "# Processing of Infrared image"
   ]
  },
  {
   "cell_type": "markdown",
   "metadata": {},
   "source": [
    "## Conversion from JPG to TIFF"
   ]
  },
  {
   "cell_type": "code",
   "execution_count": 10,
   "metadata": {
    "collapsed": false
   },
   "outputs": [],
   "source": [
    "from PIL import Image\n",
    "im = Image.open('cperuvb_IR_2016_06_21_083005.jpg')\n",
    "im.save('IR.tiff')\n",
    "#plt.show(im)"
   ]
  },
  {
   "cell_type": "markdown",
   "metadata": {},
   "source": [
    "## Open the TIFF with GDAL"
   ]
  },
  {
   "cell_type": "code",
   "execution_count": 11,
   "metadata": {
    "collapsed": true
   },
   "outputs": [],
   "source": [
    "chm_filename = 'IR.tiff'\n",
    "chm_dataset = gdal.Open(chm_filename)"
   ]
  },
  {
   "cell_type": "markdown",
   "metadata": {},
   "source": [
    "### Convert this information into a spatial extent (xMin, xMax, yMin, yMax) by combining information about the origin, number of columns & rows, and pixel size "
   ]
  },
  {
   "cell_type": "code",
   "execution_count": 14,
   "metadata": {
    "collapsed": false
   },
   "outputs": [
    {
     "name": "stdout",
     "output_type": "stream",
     "text": [
      "Raster extent: (0.0, 1296.0, 960.0, 0.0)\n"
     ]
    }
   ],
   "source": [
    "chm_mapinfo = chm_dataset.GetGeoTransform()\n",
    "xMin = chm_mapinfo[0]\n",
    "yMax = chm_mapinfo[3]\n",
    "\n",
    "xMax = xMin + chm_dataset.RasterXSize/chm_mapinfo[1] #divide by pixel width \n",
    "yMin = yMax + chm_dataset.RasterYSize/chm_mapinfo[5] #divide by pixel height (note sign +/-)\n",
    "chm_ext = (xMin,xMax,yMin,yMax)\n",
    "#noDataVal = chm_raster.GetNoDataValue(); print('no data value:',noDataVal)\n",
    "scaleFactor = 1.0\n",
    "print('Raster extent:',chm_ext)"
   ]
  },
  {
   "cell_type": "markdown",
   "metadata": {},
   "source": [
    "## Display the dataset dimensions and number of bands"
   ]
  },
  {
   "cell_type": "code",
   "execution_count": 15,
   "metadata": {
    "collapsed": false
   },
   "outputs": [
    {
     "name": "stdout",
     "output_type": "stream",
     "text": [
      "# of columns: 1296\n",
      "# of rows: 960\n",
      "# of bands: 3\n",
      "driver: GeoTIFF\n"
     ]
    }
   ],
   "source": [
    "cols = chm_dataset.RasterXSize; print('# of columns:',cols)\n",
    "rows = chm_dataset.RasterYSize; print('# of rows:',rows)\n",
    "print('# of bands:',chm_dataset.RasterCount)\n",
    "print('driver:',chm_dataset.GetDriver().LongName)"
   ]
  },
  {
   "cell_type": "markdown",
   "metadata": {},
   "source": [
    "# Why 3 Bands?\n"
   ]
  },
  {
   "cell_type": "markdown",
   "metadata": {},
   "source": [
    "# <img src=\"cperuvb_IR_2016_06_21_083005.jpg\">"
   ]
  },
  {
   "cell_type": "markdown",
   "metadata": {},
   "source": [
    "# We have to avoid the metada displayed on the top... how?"
   ]
  },
  {
   "cell_type": "markdown",
   "metadata": {},
   "source": [
    "## 1. Read as array every band"
   ]
  },
  {
   "cell_type": "markdown",
   "metadata": {},
   "source": [
    "### Band 1 IR\n"
   ]
  },
  {
   "cell_type": "code",
   "execution_count": null,
   "metadata": {
    "collapsed": false
   },
   "outputs": [],
   "source": [
    "chm_array_1 = chm_dataset.GetRasterBand(1).ReadAsArray(0,0,cols,rows).astype(np.float)\n",
    "chm_array_1=chm_array_1/scaleFactor\n",
    "chm_array_1=chm_array_1[80:rows,:]\n",
    "print('Array:\\n',chm_array_1) #display array values\n"
   ]
  },
  {
   "cell_type": "markdown",
   "metadata": {},
   "source": [
    "### Band 2 IR"
   ]
  },
  {
   "cell_type": "code",
   "execution_count": null,
   "metadata": {
    "collapsed": false
   },
   "outputs": [],
   "source": [
    "chm_array_2 = chm_dataset.GetRasterBand(2).ReadAsArray(0,0,cols,rows).astype(np.float)\n",
    "chm_array_2=chm_array_2/scaleFactor\n",
    "chm_array_2=chm_array_2[97:rows,:]\n",
    "print('Array:\\n',chm_array_2) #display array values"
   ]
  },
  {
   "cell_type": "markdown",
   "metadata": {},
   "source": [
    "### Band 3 IR"
   ]
  },
  {
   "cell_type": "code",
   "execution_count": null,
   "metadata": {
    "collapsed": false
   },
   "outputs": [],
   "source": [
    "chm_array_3 = chm_dataset.GetRasterBand(3).ReadAsArray(0,0,cols,rows).astype(np.float)\n",
    "chm_array_3=chm_array_3/scaleFactor\n",
    "chm_array_3=chm_array_3[97:rows,:]\n",
    "print('Array:\\n',chm_array_3) #display array values"
   ]
  },
  {
   "cell_type": "markdown",
   "metadata": {},
   "source": [
    "# From raw number 97 all the values are equals! Correct Submatrix found!"
   ]
  },
  {
   "cell_type": "markdown",
   "metadata": {},
   "source": [
    "## 2. Plot the band"
   ]
  },
  {
   "cell_type": "code",
   "execution_count": null,
   "metadata": {
    "collapsed": false,
    "scrolled": true
   },
   "outputs": [],
   "source": [
    "# Define the plot_band_array function\n",
    "def plot_band_array(band_array,refl_extent,colorlimit,ax=plt.gca(),title='',cbar ='on',cmap_title='',colormap='Greys'):\n",
    "    plot = plt.imshow(band_array,extent=refl_extent,clim=colorlimit); \n",
    "    if cbar == 'on':\n",
    "        cbar = plt.colorbar(plot,aspect=40); plt.set_cmap(colormap); \n",
    "        cbar.set_label(cmap_title,rotation=90,labelpad=20);\n",
    "    plt.title(title); ax = plt.gca(); \n",
    "    ax.ticklabel_format(useOffset=False, style='plain'); #do not use scientific notation #\n",
    "    rotatexlabels = plt.setp(ax.get_xticklabels(),rotation=90); #rotate x tick labels 90 degrees\n",
    "\n",
    "plot_band_array(chm_array_2,chm_ext,(0,80),title='Plot',cmap_title='chm_array_1, m')"
   ]
  },
  {
   "cell_type": "markdown",
   "metadata": {},
   "source": [
    "# 3. Clean noise with Gaussian function"
   ]
  },
  {
   "cell_type": "code",
   "execution_count": null,
   "metadata": {
    "collapsed": true
   },
   "outputs": [],
   "source": [
    "array_ir_smooth = gaussian(chm_array_2,3)"
   ]
  },
  {
   "cell_type": "code",
   "execution_count": null,
   "metadata": {
    "collapsed": false
   },
   "outputs": [],
   "source": [
    "plot_band_array(array_ir_smooth,chm_ext,(0,80),title='Plot',cmap_title='chm_array_2, m')"
   ]
  },
  {
   "cell_type": "markdown",
   "metadata": {
    "collapsed": true
   },
   "source": [
    "# Processing of RGB image"
   ]
  },
  {
   "cell_type": "markdown",
   "metadata": {},
   "source": [
    "## Conversion from JPG to TIFF"
   ]
  },
  {
   "cell_type": "code",
   "execution_count": null,
   "metadata": {
    "collapsed": false
   },
   "outputs": [],
   "source": [
    "im = Image.open('cperuvb_2016_06_21_083005.jpg')\n",
    "im.save('NoIR.tiff')\n"
   ]
  },
  {
   "cell_type": "markdown",
   "metadata": {},
   "source": [
    "## Open the TIFF with GDAL"
   ]
  },
  {
   "cell_type": "code",
   "execution_count": null,
   "metadata": {
    "collapsed": true
   },
   "outputs": [],
   "source": [
    "chm_filename2 = 'NoIR.tiff'\n",
    "chm_dataset2 = gdal.Open(chm_filename2)"
   ]
  },
  {
   "cell_type": "markdown",
   "metadata": {},
   "source": [
    "## Display the dataset dimensions and number of bands"
   ]
  },
  {
   "cell_type": "code",
   "execution_count": null,
   "metadata": {
    "collapsed": false
   },
   "outputs": [],
   "source": [
    "cols = chm_dataset2.RasterXSize; print('# of columns:',cols)\n",
    "rows = chm_dataset2.RasterYSize; print('# of rows:',rows)\n",
    "print('# of bands:',chm_dataset2.RasterCount)\n",
    "print('driver:',chm_dataset2.GetDriver().LongName)"
   ]
  },
  {
   "cell_type": "markdown",
   "metadata": {
    "collapsed": true
   },
   "source": [
    "## 1. Read as array every band\n",
    "## Red Band"
   ]
  },
  {
   "cell_type": "code",
   "execution_count": null,
   "metadata": {
    "collapsed": false
   },
   "outputs": [],
   "source": [
    "chm_array_10 = chm_dataset2.GetRasterBand(1).ReadAsArray(0,0,cols,rows).astype(np.float)\n",
    "#### chm_array[chm_array==int(noDataVal)]=np.nan #Assign CHM No Data Values to NaN\n",
    "chm_array_10=chm_array_10/scaleFactor\n",
    "chm_array_10=chm_array_10[97:rows,:]\n",
    "print('Array:\\n',chm_array_1) #display array values\n",
    "\n",
    "colorlimit = (0,256) # set color from 0-256\n",
    "\n",
    "plot_band_array(chm_array_10,chm_ext,colorlimit,title='SERC Band 58(Red)',colormap='Reds_r')"
   ]
  },
  {
   "cell_type": "markdown",
   "metadata": {
    "collapsed": true
   },
   "source": [
    "## Green Band"
   ]
  },
  {
   "cell_type": "code",
   "execution_count": null,
   "metadata": {
    "collapsed": false
   },
   "outputs": [],
   "source": [
    "chm_array_20 = chm_dataset2.GetRasterBand(2).ReadAsArray(0,0,cols,rows).astype(np.float)\n",
    "#### chm_array[chm_array==int(noDataVal)]=np.nan #Assign CHM No Data Values to NaN\n",
    "chm_array_20=chm_array_20/scaleFactor\n",
    "chm_array_20=chm_array_20[97:rows,:]\n",
    "print('Array:\\n',chm_array_2) #display array values\n",
    "plot_band_array(chm_array_20,chm_ext,colorlimit,title='Band Green',colormap='Greens_r')"
   ]
  },
  {
   "cell_type": "markdown",
   "metadata": {},
   "source": [
    "## Blue Band"
   ]
  },
  {
   "cell_type": "code",
   "execution_count": null,
   "metadata": {
    "collapsed": false
   },
   "outputs": [],
   "source": [
    "chm_array_30 = chm_dataset2.GetRasterBand(3).ReadAsArray(0,0,cols,rows).astype(np.float)\n",
    "#### chm_array[chm_array==int(noDataVal)]=np.nan #Assign CHM No Data Values to NaN\n",
    "chm_array_30=chm_array_30/scaleFactor\n",
    "chm_array_30=chm_array_30[97:rows,:]\n",
    "print('Array:\\n',chm_array_3) #display array values\n",
    "plot_band_array(chm_array_30,chm_ext,colorlimit,title='Band Blue',colormap='Blues_r')"
   ]
  },
  {
   "cell_type": "markdown",
   "metadata": {},
   "source": [
    "## Clean noise with Gaussian function"
   ]
  },
  {
   "cell_type": "code",
   "execution_count": null,
   "metadata": {
    "collapsed": false
   },
   "outputs": [],
   "source": [
    "# Blur the array in order to avoid the noise\n",
    "array_vis_smooth = gaussian(chm_array_10,3)\n",
    "plot_band_array(array_vis_smooth,chm_ext,colorlimit,title='SERC Band 58(Red)',colormap='Reds_r')"
   ]
  },
  {
   "cell_type": "code",
   "execution_count": null,
   "metadata": {
    "collapsed": false
   },
   "outputs": [],
   "source": [
    "import pylab\n",
    "vis = array_vis_smooth.astype(float)\n",
    "nir = array_ir_smooth.astype(float) \n",
    "\n",
    "ndvi = np.divide((nir-vis),(nir+vis))\n",
    "plot_band_array(ndvi,chm_ext,(0,np.max(ndvi)),title='Subset NDVI \\n (VIS, NIR)',cmap_title='NDVI',colormap='seismic')\n",
    "pylab.savefig('NDVIsample.png')"
   ]
  },
  {
   "cell_type": "code",
   "execution_count": null,
   "metadata": {
    "collapsed": false
   },
   "outputs": [],
   "source": [
    "ndvi_valor = np.nanmean(ndvi,dtype=np.float64)\n",
    "print (ndvi_valor)\n"
   ]
  }
 ],
 "metadata": {
  "kernelspec": {
   "display_name": "Python 3",
   "language": "python",
   "name": "python3"
  },
  "language_info": {
   "codemirror_mode": {
    "name": "ipython",
    "version": 3
   },
   "file_extension": ".py",
   "mimetype": "text/x-python",
   "name": "python",
   "nbconvert_exporter": "python",
   "pygments_lexer": "ipython3",
   "version": "3.4.5"
  }
 },
 "nbformat": 4,
 "nbformat_minor": 2
}
