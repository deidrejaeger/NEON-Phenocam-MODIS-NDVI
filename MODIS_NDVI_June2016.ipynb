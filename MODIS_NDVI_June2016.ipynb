{
 "cells": [
  {
   "cell_type": "markdown",
   "metadata": {},
   "source": [
    "----\n",
    "# Calculating NDVI from daily MODIS reflectance imagery\n",
    "## Deidre Jaeger\n",
    "## Created: 6/23/2017\n",
    "## Last modified: 6/23/2017\n",
    "---"
   ]
  },
  {
   "cell_type": "code",
   "execution_count": 1,
   "metadata": {
    "collapsed": true
   },
   "outputs": [],
   "source": [
    "# Load libraries to environment\n",
    "import numpy as np\n",
    "import matplotlib.pyplot as plt\n",
    "import gdal\n",
    "import h5py\n",
    "import osr\n",
    "import os\n",
    "import pymodis\n",
    "import pyhdf\n",
    "from pyhdf.SD import SD, SDC\n",
    "import matplotlib as mpl\n",
    "from mpl_toolkits import *\n",
    "\n",
    "\n"
   ]
  },
  {
   "cell_type": "markdown",
   "metadata": {},
   "source": [
    "# Open the hdf file and convert to numpy array"
   ]
  },
  {
   "cell_type": "code",
   "execution_count": 97,
   "metadata": {},
   "outputs": [
    {
     "name": "stdout",
     "output_type": "stream",
     "text": [
      "(46, 13)\n"
     ]
    }
   ],
   "source": [
    "# Open hdf file.\n",
    "FILE_NAME = '../data/MOD09.A2016173.1710.006.2016175025530.hdf'\n",
    "hdf = SD(FILE_NAME, SDC.READ)\n",
    "\n",
    "#List how many Scientific DataSets (most NASA dataset stored in SDS)\n",
    "print(hdf.info())\n",
    "\n",
    "# List available Scientific DataSets (most NASA dataset stored in SDS)\n",
    "#print(hdf.datasets())\n"
   ]
  },
  {
   "cell_type": "markdown",
   "metadata": {},
   "source": [
    "# Save the VISIBLE and NEAR INFRARED bands"
   ]
  },
  {
   "cell_type": "code",
   "execution_count": 95,
   "metadata": {},
   "outputs": [],
   "source": [
    "# Name the two band datasets of interest\n",
    "NIR_band = '250m Surface Reflectance Band 2'\n",
    "VIS_band = '250m Surface Reflectance Band 1'\n",
    "\n",
    "# Get the data stored in the datasets\n",
    "NIR_data = hdf.select(NIR_band).get()\n",
    "VIS_data = hdf.select(VIS_band).get()\n",
    "\n",
    "#print(type(NIR_data))"
   ]
  },
  {
   "cell_type": "markdown",
   "metadata": {},
   "source": [
    "# Calculate NDVI "
   ]
  },
  {
   "cell_type": "code",
   "execution_count": 111,
   "metadata": {},
   "outputs": [
    {
     "name": "stderr",
     "output_type": "stream",
     "text": [
      "/Users/deidrejaeger/anaconda/envs/p34/lib/python3.4/site-packages/ipykernel/__main__.py:4: RuntimeWarning: divide by zero encountered in true_divide\n",
      "/Users/deidrejaeger/anaconda/envs/p34/lib/python3.4/site-packages/ipykernel/__main__.py:4: RuntimeWarning: invalid value encountered in true_divide\n"
     ]
    }
   ],
   "source": [
    "# calculate ndvi\n",
    "# NDVI = (NIR — VIS)/(NIR + VIS)\n",
    "\n",
    "ndvi_val = (NIR_data-VIS_data)/(NIR_data + VIS_data)"
   ]
  },
  {
   "cell_type": "markdown",
   "metadata": {},
   "source": [
    "# Get Spatial Reference, convert to UTM, clip to CPER site"
   ]
  },
  {
   "cell_type": "code",
   "execution_count": 115,
   "metadata": {},
   "outputs": [
    {
     "name": "stdout",
     "output_type": "stream",
     "text": [
      "[[ 50.30360794  50.30311966  50.30260086 ...,  45.86412811  45.84705734\n",
      "   45.82995224]\n",
      " [ 50.28544998  50.28501892  50.28455734 ...,  45.84777069  45.83057404\n",
      "   45.81369019]\n",
      " [ 50.26729202  50.266922    50.26651382 ...,  45.83091736  45.81391907\n",
      "   45.79727554]\n",
      " ..., \n",
      " [ 32.33861923  32.33631897  32.33402252 ...,  28.8807106   28.8692131\n",
      "   28.8576088 ]\n",
      " [ 32.32059097  32.31835175  32.3161087  ...,  28.86344147  28.85189247\n",
      "   28.84023666]\n",
      " [ 32.30257034  32.30038071  32.29819107 ...,  28.84616852  28.83456802\n",
      "   28.82286072]]\n"
     ]
    }
   ],
   "source": [
    "# Read geolocation dataset.\n",
    "lat = hdf.select('Latitude')\n",
    "latitude = lat[:,:]\n",
    "lon = hdf.select('Longitude')\n",
    "longitude = lon[:,:]\n"
   ]
  },
  {
   "cell_type": "code",
   "execution_count": null,
   "metadata": {
    "collapsed": true
   },
   "outputs": [],
   "source": [
    "calcClipextent function with an array\n",
    "# need to check the origin"
   ]
  },
  {
   "cell_type": "code",
   "execution_count": 14,
   "metadata": {
    "collapsed": true
   },
   "outputs": [],
   "source": [
    "# NEON CPER UTM coordinates [easting, northing]\n",
    "CPER_center = np.array([520593,4517203])"
   ]
  }
 ],
 "metadata": {
  "kernelspec": {
   "display_name": "Python 3.4 NEON-RSDI working",
   "language": "python",
   "name": "p34"
  },
  "language_info": {
   "codemirror_mode": {
    "name": "ipython",
    "version": 3
   },
   "file_extension": ".py",
   "mimetype": "text/x-python",
   "name": "python",
   "nbconvert_exporter": "python",
   "pygments_lexer": "ipython3",
   "version": "3.4.5"
  }
 },
 "nbformat": 4,
 "nbformat_minor": 2
}
